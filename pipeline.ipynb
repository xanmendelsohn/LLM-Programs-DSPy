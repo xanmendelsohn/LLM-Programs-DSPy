{
 "cells": [
  {
   "cell_type": "markdown",
   "metadata": {},
   "source": [
    "# This Notebook is for Execution of PromptU \"the Prompt Tuner\" without using Streamlit"
   ]
  },
  {
   "cell_type": "markdown",
   "metadata": {},
   "source": [
    "The codebase contains the following folders:\n",
    "\n",
    "- data/reports: contains training and validation data\n",
    "- models: contains trained models\n",
    "- module: contains modules that are basically from dspy but had to be adjusted for our specific LLM API wrapper\n",
    "- prompt_optimization: contains the project week logic. output_postprocessing is for combining in case two quotes with the same category are extracted. Then these are combined to \n",
    "    one entry\n",
    "- streamlit: contains streamlit code\n",
    "- teleprompt: contains modules that are basically from dspy but had to be adjusted for our specific LLM API wrapper \n",
    "- utils: are mainly from preparation of project week, contain relevant functions like docs2data.py and validation.py for the metrics\n",
    "- main.ipynb: is a file for playing around\n",
    "- dspy_business_leads_4o.ipynb: is the initial dspy file\n",
    "\n"
   ]
  },
  {
   "cell_type": "code",
   "execution_count": 1,
   "metadata": {},
   "outputs": [
    {
     "data": {
      "text/html": [
       "<style>.container { width:90% !important; }</style>"
      ],
      "text/plain": [
       "<IPython.core.display.HTML object>"
      ]
     },
     "metadata": {},
     "output_type": "display_data"
    }
   ],
   "source": [
    "from IPython.core.interactiveshell import InteractiveShell\n",
    "InteractiveShell.ast_node_interactivity = \"all\"  # last_expr\n",
    "\n",
    "from IPython.core.display import display, HTML\n",
    "display(HTML(\"<style>.container { width:90% !important; }</style>\"))\n",
    "\n",
    "%load_ext autoreload\n",
    "%autoreload 2"
   ]
  },
  {
   "cell_type": "code",
   "execution_count": 2,
   "metadata": {},
   "outputs": [
    {
     "name": "stderr",
     "output_type": "stream",
     "text": [
      "/home/cdsw/.local/lib/python3.9/site-packages/tqdm/auto.py:21: TqdmWarning: IProgress not found. Please update jupyter and ipywidgets. See https://ipywidgets.readthedocs.io/en/stable/user_install.html\n",
      "  from .autonotebook import tqdm as notebook_tqdm\n"
     ]
    }
   ],
   "source": [
    "from pathlib import Path\n",
    "import json\n",
    "import dspy\n",
    "from dspy.evaluate import Evaluate\n",
    "import pandas as pd\n",
    "\n",
    "from prompt_optimization.signatures import init_signatures\n",
    "from prompt_optimization.scan_report import ScanReport\n",
    "from prompt_optimization.main import optimize\n",
    "from prompt_optimization.output_postprocessing import aggregate_per_category, flatten_dict, dict_to_df\n",
    "# from prompt_optimization.signatures import SummaryReasoning\n",
    "from utils.docs2data import read_docs_to_dataframe\n",
    "from utils.validation import substring_metric, lm_metric"
   ]
  },
  {
   "cell_type": "markdown",
   "metadata": {},
   "source": [
    "# Set configs for prompt optimization"
   ]
  },
  {
   "cell_type": "code",
   "execution_count": 3,
   "metadata": {},
   "outputs": [],
   "source": [
    "type_of_documents = \"business report\" #singular\n",
    "categories = ['FX_HEDGING', 'COMMODITIES_HEDGING', 'INTEREST_RATE_HEDGING', 'CREDIT', 'INSURANCE', 'FACTORING', 'PENSIONS', 'ESG', 'CASH_MANAGEMENT', 'DEPOSITS', 'ASSET_MANAGEMENT', 'OTHER']\n",
    "class_of_categories = \"banking products\" #plural\n",
    "objective = \"extracting company specific information that indicate sales opportunities for products relating to capital market or asset management\" # present progressive\n",
    "metric = 'simple' #'llm'\n",
    "optimizer = 'bootstrap-few-shot' #'combined' # 'bootstrap-few-shot'\n",
    "number_of_items_in_output = 5"
   ]
  },
  {
   "cell_type": "markdown",
   "metadata": {},
   "source": [
    "# Train PromptU model"
   ]
  },
  {
   "cell_type": "markdown",
   "metadata": {},
   "source": [
    "Here, the following happens:\n",
    "1. Create training data from .txt documents, i.e. table with columns [filename\tcontext\tquote\tcategories\tcount_quote\tcount_categories\tanswer]\n",
    "2. Configure LLM API\n",
    "3. Create signatures, i.e. separate short parametrized model prompts that will be evaluated separately\n",
    "4. Create class ScanReport that bundles signatures together and implements a forward function that is used to predict based on given contexts. \n",
    "5. Training with optimizer 'bootstrap-few-shot' or a combination of 'bootstrap-few-shot' and COPRO . Result is saved model"
   ]
  },
  {
   "cell_type": "code",
   "execution_count": 4,
   "metadata": {},
   "outputs": [
    {
     "name": "stdout",
     "output_type": "stream",
     "text": [
      "['FX_HEDGING', 'COMMODITIES_HEDGING', 'INTEREST_RATE_HEDGING', 'CREDIT', 'INSURANCE', 'FACTORING', 'PENSIONS', 'ESG', 'CASH_MANAGEMENT', 'DEPOSITS', 'ASSET_MANAGEMENT', 'OTHER']\n"
     ]
    },
    {
     "name": "stderr",
     "output_type": "stream",
     "text": [
      "  0%|          | 0/16 [00:00<?, ?it/s]WARNING:root:\t*** In DSPy 2.5, all LM clients except `dspy.LM` are deprecated. ***\n",
      " \t\tYou are using the client AzureOpenAI, which will be removed in DSPy 2.6.\n",
      " \t\tChanging the client is straightforward and will let you use new features (Adapters) that improve the consistency of LM outputs, especially when using chat LMs. \n",
      "\n",
      " \t\tLearn more about the changes and how to migrate at\n",
      " \t\thttps://github.com/stanfordnlp/dspy/blob/main/examples/migration.ipynb\n",
      " 31%|███▏      | 5/16 [00:00<00:00, 17.41it/s]\n",
      "  0%|          | 0/16 [00:00<?, ?it/s]\n",
      "  0%|          | 0/16 [00:00<?, ?it/s]\n",
      "  0%|          | 0/16 [00:00<?, ?it/s]"
     ]
    },
    {
     "name": "stdout",
     "output_type": "stream",
     "text": [
      "Bootstrapped 5 full traces after 1 examples in round 3.\n",
      "[('preselection', Predict(ChunkerSignature(context -> output\n",
      "    instructions='Given a business report, determine 5 most relevant snippets (2-3 sentences) to extracting company specific information that indicate sales opportunities for products relating to capital market or asset management. Do not include the context in the output.'\n",
      "    context = Field(annotation=str required=True json_schema_extra={'__dspy_field_type': 'input', 'prefix': 'Context:', 'desc': '${context}'})\n",
      "    output = Field(annotation=str required=True json_schema_extra={'desc': 'comma-separated quotes', '__dspy_field_type': 'output', 'prefix': 'Output:'})\n",
      "))), ('predict', ChainOfThoughtWithHint(PredictCategory(context -> output\n",
      "    instructions=\"Given a snippet from a business report, identify which of the banking products (['FX_HEDGING', 'COMMODITIES_HEDGING', 'INTEREST_RATE_HEDGING', 'CREDIT', 'INSURANCE', 'FACTORING', 'PENSIONS', 'ESG', 'CASH_MANAGEMENT', 'DEPOSITS', 'ASSET_MANAGEMENT', 'OTHER']) the snippet is relevant to. If snippet is not relevant for any banking products, say 'other'.\"\n",
      "    context = Field(annotation=str required=True json_schema_extra={'__dspy_field_type': 'input', 'prefix': 'Context:', 'desc': '${context}'})\n",
      "    output = Field(annotation=str required=True json_schema_extra={'desc': 'comma-separated {class_of_categories}', 'format': <function init_signatures.<locals>.PredictCategory.<lambda> at 0x7fd61e270b80>, '__dspy_field_type': 'output', 'prefix': 'Output:'})\n",
      "))), ('relevance', Predict(StringSignature(context -> rationale, output\n",
      "    instructions='Given a snippet from a business report, determine a score between 0 and 100 of how relevant the snippet is to extracting company specific information that indicate sales opportunities for products relating to capital market or asset management. A score of 100 denotes high relevance, and a score 0 denotes irrelevance.'\n",
      "    context = Field(annotation=str required=True json_schema_extra={'__dspy_field_type': 'input', 'prefix': 'Context:', 'desc': '${context}'})\n",
      "    rationale = Field(annotation=str required=True json_schema_extra={'prefix': \"Reasoning: Let's think step by step in order to\", 'desc': '${produce the output}. We ...', '__dspy_field_type': 'output'})\n",
      "    output = Field(annotation=str required=True json_schema_extra={'desc': 'number between 0 and 100', '__dspy_field_type': 'output', 'prefix': 'Output:'})\n",
      "))), ('translator', Predict(Translator(context -> output\n",
      "    instructions='Do not include the context and introduction in the output. Translate to German.'\n",
      "    context = Field(annotation=str required=True json_schema_extra={'__dspy_field_type': 'input', 'prefix': 'Context:', 'desc': '${context}'})\n",
      "    output = Field(annotation=str required=True json_schema_extra={'desc': 'German', '__dspy_field_type': 'output', 'prefix': 'Output:'})\n",
      ")))]\n",
      "Number of saved model:  5990172094\n"
     ]
    },
    {
     "name": "stderr",
     "output_type": "stream",
     "text": [
      "\n"
     ]
    }
   ],
   "source": [
    "model_path, model_number = optimize(type_of_documents, categories, class_of_categories, objective, metric, optimizer)"
   ]
  },
  {
   "cell_type": "markdown",
   "metadata": {},
   "source": [
    "# Evaluation"
   ]
  },
  {
   "cell_type": "code",
   "execution_count": 3,
   "metadata": {},
   "outputs": [],
   "source": [
    "# Read validation data\n",
    "folder_path = Path('data/reports/validation_annotated/')\n",
    "df = read_docs_to_dataframe(folder_path)\n",
    "df['context'] = df['context'].str.replace(r'[\"]', '', regex=True)\n",
    "# df = pd.read_excel('prompt_optimization/train_data.xlsx')\n",
    "examples = json.loads(df[[\"context\",\"answer\"]].to_json(orient=\"records\"))\n",
    "validation_data = [dspy.Example(x).with_inputs('context') for x in examples]"
   ]
  },
  {
   "cell_type": "code",
   "execution_count": 51,
   "metadata": {},
   "outputs": [
    {
     "data": {
      "text/html": [
       "<div>\n",
       "<style scoped>\n",
       "    .dataframe tbody tr th:only-of-type {\n",
       "        vertical-align: middle;\n",
       "    }\n",
       "\n",
       "    .dataframe tbody tr th {\n",
       "        vertical-align: top;\n",
       "    }\n",
       "\n",
       "    .dataframe thead th {\n",
       "        text-align: right;\n",
       "    }\n",
       "</style>\n",
       "<table border=\"1\" class=\"dataframe\">\n",
       "  <thead>\n",
       "    <tr style=\"text-align: right;\">\n",
       "      <th></th>\n",
       "      <th>filename</th>\n",
       "      <th>context</th>\n",
       "      <th>quote</th>\n",
       "      <th>categories</th>\n",
       "      <th>count_quote</th>\n",
       "      <th>count_categories</th>\n",
       "      <th>answer</th>\n",
       "    </tr>\n",
       "  </thead>\n",
       "  <tbody>\n",
       "    <tr>\n",
       "      <th>0</th>\n",
       "      <td>mentz-risiko-cha...</td>\n",
       "      <td>Prognoseb ericht...</td>\n",
       "      <td>[\"Der Strom der ...</td>\n",
       "      <td>[\"CASH_MANAGEMEN...</td>\n",
       "      <td>2</td>\n",
       "      <td>[2, 2]</td>\n",
       "      <td>[{'quote': 'Der ...</td>\n",
       "    </tr>\n",
       "    <tr>\n",
       "      <th>1</th>\n",
       "      <td>thimm-chancen-ri...</td>\n",
       "      <td>Chancen- und Ris...</td>\n",
       "      <td>[\"Die Liquidität...</td>\n",
       "      <td>[\"CASH_MANAGEMEN...</td>\n",
       "      <td>2</td>\n",
       "      <td>[2, 2]</td>\n",
       "      <td>[{'quote': 'Die ...</td>\n",
       "    </tr>\n",
       "    <tr>\n",
       "      <th>2</th>\n",
       "      <td>v-line-grundlage...</td>\n",
       "      <td>A.Grundl agenber...</td>\n",
       "      <td>[\"D er Ans tieg ...</td>\n",
       "      <td>[\"FX_HEDGING\"]</td>\n",
       "      <td>1</td>\n",
       "      <td>[1, 1]</td>\n",
       "      <td>[{'quote': 'D er...</td>\n",
       "    </tr>\n",
       "    <tr>\n",
       "      <th>3</th>\n",
       "      <td>v-line-risikober...</td>\n",
       "      <td>II.Risikob erich...</td>\n",
       "      <td>[\"Zur Re duktion...</td>\n",
       "      <td>[\"FX_HEDGING\"]</td>\n",
       "      <td>1</td>\n",
       "      <td>[1, 1]</td>\n",
       "      <td>[{'quote': 'Zur ...</td>\n",
       "    </tr>\n",
       "    <tr>\n",
       "      <th>4</th>\n",
       "      <td>voss-excerpt1.txt</td>\n",
       "      <td>Die Tochtergesel...</td>\n",
       "      <td>[\"Die Gel danla ...</td>\n",
       "      <td>[\"CASH_MANAGEMEN...</td>\n",
       "      <td>2</td>\n",
       "      <td>[2, 2]</td>\n",
       "      <td>[{'quote': 'Die ...</td>\n",
       "    </tr>\n",
       "    <tr>\n",
       "      <th>5</th>\n",
       "      <td>thimm-bestimmte-...</td>\n",
       "      <td>II.  Bestimmte S...</td>\n",
       "      <td>[\"Als derivative...</td>\n",
       "      <td>[\"INTEREST_RATE_...</td>\n",
       "      <td>1</td>\n",
       "      <td>[1, 1]</td>\n",
       "      <td>[{'quote': 'Als ...</td>\n",
       "    </tr>\n",
       "  </tbody>\n",
       "</table>\n",
       "</div>"
      ],
      "text/plain": [
       "              filename              context                quote           categories  count_quote count_categories               answer\n",
       "0  mentz-risiko-cha...  Prognoseb ericht...  [\"Der Strom der ...  [\"CASH_MANAGEMEN...            2           [2, 2]  [{'quote': 'Der ...\n",
       "1  thimm-chancen-ri...  Chancen- und Ris...  [\"Die Liquidität...  [\"CASH_MANAGEMEN...            2           [2, 2]  [{'quote': 'Die ...\n",
       "2  v-line-grundlage...  A.Grundl agenber...  [\"D er Ans tieg ...       [\"FX_HEDGING\"]            1           [1, 1]  [{'quote': 'D er...\n",
       "3  v-line-risikober...  II.Risikob erich...  [\"Zur Re duktion...       [\"FX_HEDGING\"]            1           [1, 1]  [{'quote': 'Zur ...\n",
       "4    voss-excerpt1.txt  Die Tochtergesel...  [\"Die Gel danla ...  [\"CASH_MANAGEMEN...            2           [2, 2]  [{'quote': 'Die ...\n",
       "5  thimm-bestimmte-...  II.  Bestimmte S...  [\"Als derivative...  [\"INTEREST_RATE_...            1           [1, 1]  [{'quote': 'Als ..."
      ]
     },
     "execution_count": 51,
     "metadata": {},
     "output_type": "execute_result"
    }
   ],
   "source": [
    "pd.set_option('display.max_colwidth', 400)\n",
    "df"
   ]
  },
  {
   "cell_type": "code",
   "execution_count": 43,
   "metadata": {},
   "outputs": [
    {
     "data": {
      "text/plain": [
       "dict_keys(['context', 'answer'])"
      ]
     },
     "execution_count": 43,
     "metadata": {},
     "output_type": "execute_result"
    },
    {
     "data": {
      "text/plain": [
       "'Prognoseb ericht     Innova tive Pr odukte und T echnologieführerschaft sind und bleiben für MENTZ der Schlü ssel zum  Erfolg. Ein Schwer punkt lag dabei in 2022 unter anderem auf der Weiterentwickl ung des MENTZ  Ticket -Shops für den Verkauf von Fahrscheinen auf Smartphones.  Innerhal b von nur wenigen Wo- chen wurde das 9  €-Ticket umgesetzt und auch die notwendigen Entwicklungen zum Verkauf des  Deutschland tickets , konnten bis zum Jahresw echsel a bgeschlo ssen werde n.     Auch das DIVA -'"
      ]
     },
     "execution_count": 43,
     "metadata": {},
     "output_type": "execute_result"
    },
    {
     "data": {
      "text/plain": [
       "[{'quote': 'Der Strom der eingehenden  Zahl ungen ist über das Jahr gesehen sehr starken Schwankungen ausge- setzt. Neben den nah ezu konstant bleibenden Einkünften aus Softwarewartung und   –pflege ist der Zahlungseingang aus dem  Projektgeschäft sehr saisonal. Viele Projekte öffen tlicher  Kunden beginnen zu Jahresanfang und werden zum Jahresende abgeschlo ssen. Dies bedeutet, da ss  ein Gr oßteil der R echnungen im D ezember geste llt wird und die da mit ver bundenen Zahlungsein- gänge dann e ntweder noch im D ezember oder in den ersten Monaten des Folgejahrs e rfolgen.  MEN TZ ist je doch für diesen saisonal schwankenden Zahlung sstrom mit ausreiche nd Liquid itätsre- serven gerüstet. Diese werden währe nd des Winters aufgebaut, um dann bis in den Herbst  langsam  abgebaut zu werden. Durch die we ltweite Täti gkeit von MENTZ werden die erbrachten Leist ungen auch in Fremdwährun- gen abger echnet. Sowe it die  Zahl ungsströme auf Gr und der erbr achten Leist ungen planbar sind , wie  z.B. bei Wartungsverträgen , werden diese durch Devisenter mingeschäfte abgesichert.   Ziel des Einsat zes der deriva tiven Finanzinstrumente ist es, die Auswir kungen von Währ ungskurs- schwankungen auf das  Erge bnis und den  Zahl ungsmittelflu ss zu re duzieren.   Der Einsatz der Devisenter mingeschäfte ist auf die Absicherung der opera tiven Täti gkeit beschrä nkt.  Somit steht einem möglic hen Wertverlust bei den Devisenter mingeschäften eine gegenläufige Ent- wicklung bei den gesicherten Grundgeschäften gegenüber. ',\n",
       "  'count_quote': '2',\n",
       "  'relevance_score': '90',\n",
       "  'categories': ['\"CASH_MANAGEMENT\"', '\"FX_HEDGING\"']}]"
      ]
     },
     "execution_count": 43,
     "metadata": {},
     "output_type": "execute_result"
    }
   ],
   "source": [
    "examples[0].keys()\n",
    "examples[0]['context'][0:500]\n",
    "examples[0]['answer'][0:500]"
   ]
  },
  {
   "cell_type": "code",
   "execution_count": 46,
   "metadata": {},
   "outputs": [
    {
     "name": "stdout",
     "output_type": "stream",
     "text": [
      "Average Metric: 1.5 / 6  (25.0): 100%|██████████| 6/6 [00:00<00:00, 13.93it/s] \n"
     ]
    },
    {
     "data": {
      "text/html": [
       "<style type=\"text/css\">\n",
       "#T_da1f1 th {\n",
       "  text-align: left;\n",
       "}\n",
       "#T_da1f1 td {\n",
       "  text-align: left;\n",
       "}\n",
       "#T_da1f1_row0_col0, #T_da1f1_row0_col1, #T_da1f1_row0_col2, #T_da1f1_row0_col3, #T_da1f1_row0_col4, #T_da1f1_row1_col0, #T_da1f1_row1_col1, #T_da1f1_row1_col2, #T_da1f1_row1_col3, #T_da1f1_row1_col4, #T_da1f1_row2_col0, #T_da1f1_row2_col1, #T_da1f1_row2_col2, #T_da1f1_row2_col3, #T_da1f1_row2_col4, #T_da1f1_row3_col0, #T_da1f1_row3_col1, #T_da1f1_row3_col2, #T_da1f1_row3_col3, #T_da1f1_row3_col4 {\n",
       "  text-align: left;\n",
       "  white-space: pre-wrap;\n",
       "  word-wrap: break-word;\n",
       "  max-width: 400px;\n",
       "}\n",
       "</style>\n",
       "<table id=\"T_da1f1\">\n",
       "  <thead>\n",
       "    <tr>\n",
       "      <th class=\"blank level0\" >&nbsp;</th>\n",
       "      <th id=\"T_da1f1_level0_col0\" class=\"col_heading level0 col0\" >example_context</th>\n",
       "      <th id=\"T_da1f1_level0_col1\" class=\"col_heading level0 col1\" >example_answer</th>\n",
       "      <th id=\"T_da1f1_level0_col2\" class=\"col_heading level0 col2\" >pred_context</th>\n",
       "      <th id=\"T_da1f1_level0_col3\" class=\"col_heading level0 col3\" >pred_answer</th>\n",
       "      <th id=\"T_da1f1_level0_col4\" class=\"col_heading level0 col4\" >substring_metric</th>\n",
       "    </tr>\n",
       "  </thead>\n",
       "  <tbody>\n",
       "    <tr>\n",
       "      <th id=\"T_da1f1_level0_row0\" class=\"row_heading level0 row0\" >0</th>\n",
       "      <td id=\"T_da1f1_row0_col0\" class=\"data row0 col0\" >Prognoseb ericht Innova tive Pr odukte und T echnologieführerschaft sind und bleiben für MENTZ der Schlü ssel zum Erfolg. Ein Schwer punkt lag dabei in...</td>\n",
       "      <td id=\"T_da1f1_row0_col1\" class=\"data row0 col1\" >[{'quote': 'Der Strom der eingehenden Zahl ungen ist über das Jahr gesehen sehr starken Schwankungen ausge- setzt. Neben den nah ezu konstant bleibenden Einkünften aus...</td>\n",
       "      <td id=\"T_da1f1_row0_col2\" class=\"data row0 col2\" >Prognoseb ericht Innova tive Pr odukte und T echnologieführerschaft sind und bleiben für MENTZ der Schlü ssel zum Erfolg. Ein Schwer punkt lag dabei in...</td>\n",
       "      <td id=\"T_da1f1_row0_col3\" class=\"data row0 col3\" >[{'quote': 'Die bei unseren Kunden ausgelöste Nachfrage für unsere Neuentwicklungen zeigt, dass wir damit den Bedarf getroffen haben.', 'relevance_score': '30', 'categories': ['OTHER'], 'reasoning_categories': 'Lassen Sie...</td>\n",
       "      <td id=\"T_da1f1_row0_col4\" class=\"data row0 col4\" >✔️ [0.25]</td>\n",
       "    </tr>\n",
       "    <tr>\n",
       "      <th id=\"T_da1f1_level0_row1\" class=\"row_heading level0 row1\" >1</th>\n",
       "      <td id=\"T_da1f1_row1_col0\" class=\"data row1 col0\" >Chancen- und Risikobericht 1. Risiken a. Risikomanagement Unternehmerisches Handeln ist ständig Risiken ausge setzt. Wir definieren Risiko als die Gefahr, dass Ereignisse oder Handlungen das...</td>\n",
       "      <td id=\"T_da1f1_row1_col1\" class=\"data row1 col1\" >[{'quote': 'Die Liquiditätssicherung des Unternehmens ist desha lb fester Bestandteil der laufenden Liquidi- tätssteuerung. Hierfür besteht ein Berichtssystem, aus dem der akt uelle und zukünftige...</td>\n",
       "      <td id=\"T_da1f1_row1_col2\" class=\"data row1 col2\" >Chancen- und Risikobericht 1. Risiken a. Risikomanagement Unternehmerisches Handeln ist ständig Risiken ausge setzt. Wir definieren Risiko als die Gefahr, dass Ereignisse oder Handlungen das...</td>\n",
       "      <td id=\"T_da1f1_row1_col3\" class=\"data row1 col3\" >[{'quote': 'Die THIMM Gruppe bietet als einer von wenigen Anbieter die Bedruckung der Verpackungen im Digitalvordruck an.', 'relevance_score': '10', 'categories': ['OTHER'], 'reasoning_categories': 'Lassen Sie uns...</td>\n",
       "      <td id=\"T_da1f1_row1_col4\" class=\"data row1 col4\" ><class 'str'></td>\n",
       "    </tr>\n",
       "    <tr>\n",
       "      <th id=\"T_da1f1_level0_row2\" class=\"row_heading level0 row2\" >2</th>\n",
       "      <td id=\"T_da1f1_row2_col0\" class=\"data row2 col0\" >A.Grundl agenbericht I. Wir si nd ein interna tional ak tiver Dienstleist ung von Originalersatzte ilen, Investi- tions- und t ec erpunkte uns erer Verkaufsregi...</td>\n",
       "      <td id=\"T_da1f1_row2_col1\" class=\"data row2 col1\" >[{'quote': 'D er Ans tieg b eruht im Wesen tlichen auf deutlich er tichtagsbedi ngten ungskursv erlusten (USD und SAR) ', 'count_quote': '1', 'relevance_score': '90',...</td>\n",
       "      <td id=\"T_da1f1_row2_col2\" class=\"data row2 col2\" >A.Grundl agenbericht I. Wir si nd ein interna tional ak tiver Dienstleist ung von Originalersatzte ilen, Investi- tions- und t ec erpunkte uns erer Verkaufsregi...</td>\n",
       "      <td id=\"T_da1f1_row2_col3\" class=\"data row2 col3\" >[{'quote': 'Die Gesellschaft unterhält Tochtergesellschaften in den USA und in Saudi-Arabien.', 'relevance_score': '10', 'categories': ['OTHER'], 'reasoning_categories': 'Lassen Sie uns Schritt für Schritt nachdenken, um das...</td>\n",
       "      <td id=\"T_da1f1_row2_col4\" class=\"data row2 col4\" ><class 'str'></td>\n",
       "    </tr>\n",
       "    <tr>\n",
       "      <th id=\"T_da1f1_level0_row3\" class=\"row_heading level0 row3\" >3</th>\n",
       "      <td id=\"T_da1f1_row3_col0\" class=\"data row3 col0\" >II.Risikob ericht Mit den weltweit hohen Infla tionsraten se it Mitte des Gesch 2022 ergab sich eine ne ue Herausforder ung. Obwohl diese Tats ache...</td>\n",
       "      <td id=\"T_da1f1_row3_col1\" class=\"data row3 col1\" >[{'quote': 'Zur Re duktion von Risiken aus Ein- und V ungen sich ern wir ertige Auft er Devisentermi ngesch b. ', 'count_quote': '1', 'relevance_score': '90',...</td>\n",
       "      <td id=\"T_da1f1_row3_col2\" class=\"data row3 col2\" >II.Risikob ericht Mit den weltweit hohen Infla tionsraten se it Mitte des Gesch 2022 ergab sich eine ne ue Herausforder ung. Obwohl diese Tats ache...</td>\n",
       "      <td id=\"T_da1f1_row3_col3\" class=\"data row3 col3\" >[{'quote': 'Das wirtschaftliche und vor allem auch das politische Forderungsausfallrisiko werden weiterhin durch die Euler Hermes Kreditversicherungs-AG abgesichert.', 'relevance_score': '30', 'categories': ['INSURANCE'], 'reasoning_categories': 'Lassen Sie...</td>\n",
       "      <td id=\"T_da1f1_row3_col4\" class=\"data row3 col4\" >✔️ [0.5]</td>\n",
       "    </tr>\n",
       "  </tbody>\n",
       "</table>\n"
      ],
      "text/plain": [
       "<pandas.io.formats.style.Styler at 0x7fd61c5fadc0>"
      ]
     },
     "metadata": {},
     "output_type": "display_data"
    },
    {
     "data": {
      "text/html": [
       "\n",
       "                <div style='\n",
       "                    text-align: center;\n",
       "                    font-size: 16px;\n",
       "                    font-weight: bold;\n",
       "                    color: #555;\n",
       "                    margin: 10px 0;'>\n",
       "                    ... 2 more rows not displayed ...\n",
       "                </div>\n",
       "                "
      ],
      "text/plain": [
       "<IPython.core.display.HTML object>"
      ]
     },
     "metadata": {},
     "output_type": "display_data"
    },
    {
     "data": {
      "text/plain": [
       "(25.0, [0.25, 0.0, 0.0, 0.5, 0.0, 0.75])"
      ]
     },
     "execution_count": 46,
     "metadata": {},
     "output_type": "execute_result"
    },
    {
     "name": "stdout",
     "output_type": "stream",
     "text": [
      "Average Metric: 1.75 / 6  (29.2): 100%|██████████| 6/6 [00:00<00:00, 10.56it/s]\n"
     ]
    },
    {
     "data": {
      "text/html": [
       "<style type=\"text/css\">\n",
       "#T_db08c th {\n",
       "  text-align: left;\n",
       "}\n",
       "#T_db08c td {\n",
       "  text-align: left;\n",
       "}\n",
       "#T_db08c_row0_col0, #T_db08c_row0_col1, #T_db08c_row0_col2, #T_db08c_row0_col3, #T_db08c_row0_col4, #T_db08c_row1_col0, #T_db08c_row1_col1, #T_db08c_row1_col2, #T_db08c_row1_col3, #T_db08c_row1_col4, #T_db08c_row2_col0, #T_db08c_row2_col1, #T_db08c_row2_col2, #T_db08c_row2_col3, #T_db08c_row2_col4, #T_db08c_row3_col0, #T_db08c_row3_col1, #T_db08c_row3_col2, #T_db08c_row3_col3, #T_db08c_row3_col4 {\n",
       "  text-align: left;\n",
       "  white-space: pre-wrap;\n",
       "  word-wrap: break-word;\n",
       "  max-width: 400px;\n",
       "}\n",
       "</style>\n",
       "<table id=\"T_db08c\">\n",
       "  <thead>\n",
       "    <tr>\n",
       "      <th class=\"blank level0\" >&nbsp;</th>\n",
       "      <th id=\"T_db08c_level0_col0\" class=\"col_heading level0 col0\" >example_context</th>\n",
       "      <th id=\"T_db08c_level0_col1\" class=\"col_heading level0 col1\" >example_answer</th>\n",
       "      <th id=\"T_db08c_level0_col2\" class=\"col_heading level0 col2\" >pred_context</th>\n",
       "      <th id=\"T_db08c_level0_col3\" class=\"col_heading level0 col3\" >pred_answer</th>\n",
       "      <th id=\"T_db08c_level0_col4\" class=\"col_heading level0 col4\" >lm_metric</th>\n",
       "    </tr>\n",
       "  </thead>\n",
       "  <tbody>\n",
       "    <tr>\n",
       "      <th id=\"T_db08c_level0_row0\" class=\"row_heading level0 row0\" >0</th>\n",
       "      <td id=\"T_db08c_row0_col0\" class=\"data row0 col0\" >Prognoseb ericht Innova tive Pr odukte und T echnologieführerschaft sind und bleiben für MENTZ der Schlü ssel zum Erfolg. Ein Schwer punkt lag dabei in...</td>\n",
       "      <td id=\"T_db08c_row0_col1\" class=\"data row0 col1\" >[{'quote': 'Der Strom der eingehenden Zahl ungen ist über das Jahr gesehen sehr starken Schwankungen ausge- setzt. Neben den nah ezu konstant bleibenden Einkünften aus...</td>\n",
       "      <td id=\"T_db08c_row0_col2\" class=\"data row0 col2\" >Prognoseb ericht Innova tive Pr odukte und T echnologieführerschaft sind und bleiben für MENTZ der Schlü ssel zum Erfolg. Ein Schwer punkt lag dabei in...</td>\n",
       "      <td id=\"T_db08c_row0_col3\" class=\"data row0 col3\" >[{'quote': 'Die bei unseren Kunden ausgelöste Nachfrage für unsere Neuentwicklungen zeigt, dass wir damit den Bedarf getroffen haben.', 'relevance_score': '30', 'categories': ['OTHER'], 'reasoning_categories': 'Lassen Sie...</td>\n",
       "      <td id=\"T_db08c_row0_col4\" class=\"data row0 col4\" >✔️ [0.25]</td>\n",
       "    </tr>\n",
       "    <tr>\n",
       "      <th id=\"T_db08c_level0_row1\" class=\"row_heading level0 row1\" >1</th>\n",
       "      <td id=\"T_db08c_row1_col0\" class=\"data row1 col0\" >Chancen- und Risikobericht 1. Risiken a. Risikomanagement Unternehmerisches Handeln ist ständig Risiken ausge setzt. Wir definieren Risiko als die Gefahr, dass Ereignisse oder Handlungen das...</td>\n",
       "      <td id=\"T_db08c_row1_col1\" class=\"data row1 col1\" >[{'quote': 'Die Liquiditätssicherung des Unternehmens ist desha lb fester Bestandteil der laufenden Liquidi- tätssteuerung. Hierfür besteht ein Berichtssystem, aus dem der akt uelle und zukünftige...</td>\n",
       "      <td id=\"T_db08c_row1_col2\" class=\"data row1 col2\" >Chancen- und Risikobericht 1. Risiken a. Risikomanagement Unternehmerisches Handeln ist ständig Risiken ausge setzt. Wir definieren Risiko als die Gefahr, dass Ereignisse oder Handlungen das...</td>\n",
       "      <td id=\"T_db08c_row1_col3\" class=\"data row1 col3\" >[{'quote': 'Die THIMM Gruppe bietet als einer von wenigen Anbieter die Bedruckung der Verpackungen im Digitalvordruck an.', 'relevance_score': '10', 'categories': ['OTHER'], 'reasoning_categories': 'Lassen Sie uns...</td>\n",
       "      <td id=\"T_db08c_row1_col4\" class=\"data row1 col4\" ><class 'str'></td>\n",
       "    </tr>\n",
       "    <tr>\n",
       "      <th id=\"T_db08c_level0_row2\" class=\"row_heading level0 row2\" >2</th>\n",
       "      <td id=\"T_db08c_row2_col0\" class=\"data row2 col0\" >A.Grundl agenbericht I. Wir si nd ein interna tional ak tiver Dienstleist ung von Originalersatzte ilen, Investi- tions- und t ec erpunkte uns erer Verkaufsregi...</td>\n",
       "      <td id=\"T_db08c_row2_col1\" class=\"data row2 col1\" >[{'quote': 'D er Ans tieg b eruht im Wesen tlichen auf deutlich er tichtagsbedi ngten ungskursv erlusten (USD und SAR) ', 'count_quote': '1', 'relevance_score': '90',...</td>\n",
       "      <td id=\"T_db08c_row2_col2\" class=\"data row2 col2\" >A.Grundl agenbericht I. Wir si nd ein interna tional ak tiver Dienstleist ung von Originalersatzte ilen, Investi- tions- und t ec erpunkte uns erer Verkaufsregi...</td>\n",
       "      <td id=\"T_db08c_row2_col3\" class=\"data row2 col3\" >[{'quote': 'Die Gesellschaft unterhält Tochtergesellschaften in den USA und in Saudi-Arabien.', 'relevance_score': '10', 'categories': ['OTHER'], 'reasoning_categories': 'Lassen Sie uns Schritt für Schritt nachdenken, um das...</td>\n",
       "      <td id=\"T_db08c_row2_col4\" class=\"data row2 col4\" ><class 'str'></td>\n",
       "    </tr>\n",
       "    <tr>\n",
       "      <th id=\"T_db08c_level0_row3\" class=\"row_heading level0 row3\" >3</th>\n",
       "      <td id=\"T_db08c_row3_col0\" class=\"data row3 col0\" >II.Risikob ericht Mit den weltweit hohen Infla tionsraten se it Mitte des Gesch 2022 ergab sich eine ne ue Herausforder ung. Obwohl diese Tats ache...</td>\n",
       "      <td id=\"T_db08c_row3_col1\" class=\"data row3 col1\" >[{'quote': 'Zur Re duktion von Risiken aus Ein- und V ungen sich ern wir ertige Auft er Devisentermi ngesch b. ', 'count_quote': '1', 'relevance_score': '90',...</td>\n",
       "      <td id=\"T_db08c_row3_col2\" class=\"data row3 col2\" >II.Risikob ericht Mit den weltweit hohen Infla tionsraten se it Mitte des Gesch 2022 ergab sich eine ne ue Herausforder ung. Obwohl diese Tats ache...</td>\n",
       "      <td id=\"T_db08c_row3_col3\" class=\"data row3 col3\" >[{'quote': 'Das wirtschaftliche und vor allem auch das politische Forderungsausfallrisiko werden weiterhin durch die Euler Hermes Kreditversicherungs-AG abgesichert.', 'relevance_score': '30', 'categories': ['INSURANCE'], 'reasoning_categories': 'Lassen Sie...</td>\n",
       "      <td id=\"T_db08c_row3_col4\" class=\"data row3 col4\" >✔️ [0.75]</td>\n",
       "    </tr>\n",
       "  </tbody>\n",
       "</table>\n"
      ],
      "text/plain": [
       "<pandas.io.formats.style.Styler at 0x7fd61c5faca0>"
      ]
     },
     "metadata": {},
     "output_type": "display_data"
    },
    {
     "data": {
      "text/html": [
       "\n",
       "                <div style='\n",
       "                    text-align: center;\n",
       "                    font-size: 16px;\n",
       "                    font-weight: bold;\n",
       "                    color: #555;\n",
       "                    margin: 10px 0;'>\n",
       "                    ... 2 more rows not displayed ...\n",
       "                </div>\n",
       "                "
      ],
      "text/plain": [
       "<IPython.core.display.HTML object>"
      ]
     },
     "metadata": {},
     "output_type": "display_data"
    },
    {
     "data": {
      "text/plain": [
       "(29.17, [0.25, 0.0, 0.0, 0.75, 0.0, 0.75])"
      ]
     },
     "execution_count": 46,
     "metadata": {},
     "output_type": "execute_result"
    }
   ],
   "source": [
    "# Set up the evaluator\n",
    "evaluator = Evaluate(devset=validation_data, num_threads=1, display_progress=True, display_table=4)\n",
    "\n",
    "# Launch evaluation.\n",
    "evaluator(loaded_program, metric=substring_metric, return_all_scores=True)\n",
    "evaluator(loaded_program, metric=lm_metric, return_all_scores=True)"
   ]
  },
  {
   "cell_type": "markdown",
   "metadata": {},
   "source": [
    "# Prediction"
   ]
  },
  {
   "cell_type": "code",
   "execution_count": 9,
   "metadata": {},
   "outputs": [
    {
     "name": "stdout",
     "output_type": "stream",
     "text": [
      "['FX_HEDGING', 'COMMODITIES_HEDGING', 'INTEREST_RATE_HEDGING', 'CREDIT', 'INSURANCE', 'FACTORING', 'PENSIONS', 'ESG', 'CASH_MANAGEMENT', 'DEPOSITS', 'ASSET_MANAGEMENT', 'OTHER']\n"
     ]
    }
   ],
   "source": [
    "hint, ChunkerSignature, PredictRelevance, PredictCategory, Translator = init_signatures(type_of_documents, number_of_items_in_output, objective, class_of_categories, categories)\n",
    "loaded_program = ScanReport(hint, ChunkerSignature, PredictRelevance, PredictCategory, Translator)"
   ]
  },
  {
   "cell_type": "code",
   "execution_count": 11,
   "metadata": {},
   "outputs": [],
   "source": [
    "loaded_program.load(path='models/4862467624.json')"
   ]
  },
  {
   "cell_type": "code",
   "execution_count": 47,
   "metadata": {},
   "outputs": [],
   "source": [
    "text_excerpt = ''' \n",
    "Der Euro/US-Dollar-Wechselkurs schwankte im letzten Jahr \n",
    "zwischen 1,04 und 1,12 und lag am 31. Dezember 2023 bei 1,10, \n",
    "wobei Inflationserwartungen und Zinsdifferenzen neben den \n",
    "Handelskonflikten und den anhaltenden geopolitischen \n",
    "Spannungen die Haupttreiber sind.\n",
    "Die meisten unserer Geschäftstransaktionen werden in Euro \n",
    "und US-Dollar abgewickelt. Durch die Akquisition von \n",
    "XXX haben wir unsere Geschäftstätigkeit in den \n",
    "USA deutlich ausgebaut. Hauptsächlich aufgrund der \n",
    "zusätzlichen laufenden klinischen Studien erwarten wir, dass \n",
    "im kommenden Geschäftsjahr unsere US-Dollar-\n",
    "Aufwendungen die US-Dollar-Einnahmen übersteigen \n",
    "werden. Daher würde sich eine Stärkung des US-Dollar \n",
    "gegenüber dem Euro unter sonst konstanten Bedingungen \n",
    "negativ auf unseren betrieblichen Erfolg auswirken. Wir \n",
    "steuern dieses Risiko durch verschiedene Mechanismen, \n",
    "indem wir beispielsweise unsere US-Dollar-Vermögenswerte \n",
    "gegenüber unseren US-Dollar-Verbindlichkeiten optimieren \n",
    "und einen angemessenen Anteil an US-Dollar (derzeit rund \n",
    "35 %) auf unseren Konten aufrechterhalten. \n",
    "'''"
   ]
  },
  {
   "cell_type": "code",
   "execution_count": 48,
   "metadata": {},
   "outputs": [
    {
     "data": {
      "text/plain": [
       "{'quote': 'Die meisten unserer Geschäftstransaktionen werden in Euro und US-Dollar abgewickelt.',\n",
       " 'relevance_score': '30',\n",
       " 'categories': ['FX_HEDGING'],\n",
       " 'reasoning_categories': 'Lassen Sie uns Schritt für Schritt nachdenken, um das Ergebnis zu erzielen. Wir müssen das Bankprodukt identifizieren, das für den gegebenen Kontext relevant ist. Der Kontext erwähnt, dass die meisten Geschäftstransaktionen in Euro und US-Dollar durchgeführt werden. Dies deutet auf einen Fokus auf Devisentransaktionen und möglicherweise auf das Management von Währungsrisiken hin.',\n",
       " 'reasoning_relevance': 'Lassen Sie uns Schritt für Schritt nachdenken, um das Ergebnis zu erzielen. Wir müssen feststellen, ob der Ausschnitt unternehmensspezifische Informationen liefert, die auf Verkaufschancen für Produkte im Zusammenhang mit Kapitalmarkt oder Vermögensverwaltung hinweisen. Der Ausschnitt erwähnt, dass die meisten Geschäftstransaktionen des Unternehmens in Euro und US-Dollar durchgeführt werden. Diese Information bezieht sich auf das Währungsrisiko des Unternehmens und könnte für Produkte zur Verwaltung von Währungsrisiken relevant sein. Es wird jedoch nicht direkt auf einen Bedarf an Kapitalmarkt- oder Vermögensverwaltungsprodukten hingewiesen.'}"
      ]
     },
     "execution_count": 48,
     "metadata": {},
     "output_type": "execute_result"
    }
   ],
   "source": [
    "fullana = loaded_program(text_excerpt)\n",
    "fullana.answer[0]\n",
    "# [(','.join(fullana.answer[k]['categories']), fullana.answer[k]['quote']) for k in range(0, len(fullana.answer))]"
   ]
  },
  {
   "cell_type": "code",
   "execution_count": 49,
   "metadata": {},
   "outputs": [
    {
     "data": {
      "text/plain": [
       "[('FX_HEDGING',\n",
       "  '# Quote 1: Die meisten unserer Geschäftstransaktionen werden in Euro und US-Dollar abgewickelt.# Quote 2: Hauptsächlich aufgrund der zusätzlichen laufenden klinischen Studien erwarten wir, dass im kommenden Geschäftsjahr unsere US-Dollar-Aufwendungen die US-Dollar-Einnahmen übersteigen werden.# Quote 3: Wir steuern dieses Risiko durch verschiedene Mechanismen, indem wir beispielsweise unsere US-Dollar-Vermögenswerte gegenüber unseren US-Dollar-Verbindlichkeiten optimieren.# Quote 4: Einen angemessenen Anteil an US-Dollar (derzeit rund 35 %) auf unseren Konten aufrechterhalten.'),\n",
       " ('OTHER',\n",
       "  '# Quote 1: Durch die Akquisition von Constellation haben wir unsere Geschäftstätigkeit in den USA deutlich ausgebaut.')]"
      ]
     },
     "execution_count": 49,
     "metadata": {},
     "output_type": "execute_result"
    }
   ],
   "source": [
    "result_dict = aggregate_per_category(fullana.answer, categories)\n",
    "[(result_dict[k]['categories'], result_dict[k]['quote']) for k in range(0, len(result_dict))]"
   ]
  }
 ],
 "metadata": {
  "kernelspec": {
   "display_name": "Python 3 (ipykernel)",
   "language": "python",
   "name": "python3"
  },
  "language_info": {
   "codemirror_mode": {
    "name": "ipython",
    "version": 3
   },
   "file_extension": ".py",
   "mimetype": "text/x-python",
   "name": "python",
   "nbconvert_exporter": "python",
   "pygments_lexer": "ipython3",
   "version": "3.9.11"
  },
  "orig_nbformat": 4,
  "vscode": {
   "interpreter": {
    "hash": "949777d72b0d2535278d3dc13498b2535136f6dfe0678499012e853ee9abcab1"
   }
  }
 },
 "nbformat": 4,
 "nbformat_minor": 2
}
